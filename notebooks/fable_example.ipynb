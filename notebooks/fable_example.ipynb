{
 "cells": [
  {
   "cell_type": "markdown",
   "metadata": {},
   "source": [
    "# Fable example\n",
    "## Moving the joints\n",
    "\n",
    "In this example, we will move the joints of a Fable module.\n",
    "\n",
    "\n",
    "### Setup\n",
    "Firstly, we import the Fable API package, and setup the connection to the USB dongle:"
   ]
  },
  {
   "cell_type": "code",
   "execution_count": 1,
   "metadata": {},
   "outputs": [
    {
     "name": "stdout",
     "output_type": "stream",
     "text": [
      "PORT: COM3, NAME: Serielles USB-Gerät (COM3), HWID: USB VID:PID=03EB:FABE SER= LOCATION=1-2\n",
      "Trying to connect COM3 dongle connect: True\n",
      "Dongle...success\n",
      "setup done\n"
     ]
    },
    {
     "data": {
      "text/plain": [
       "True"
      ]
     },
     "execution_count": 1,
     "metadata": {},
     "output_type": "execute_result"
    }
   ],
   "source": [
    "from FableAPI.fable_init import api\n",
    "api.setup(blocking=True)"
   ]
  },
  {
   "cell_type": "markdown",
   "metadata": {},
   "source": [
    "### Discover modules\n",
    "Next, we will print a list of discovered modules:"
   ]
  },
  {
   "cell_type": "code",
   "execution_count": 3,
   "metadata": {
    "scrolled": true
   },
   "outputs": [
    {
     "name": "stdout",
     "output_type": "stream",
     "text": [
      "Module IDs:  ['2Q7 ']\n"
     ]
    }
   ],
   "source": [
    "moduleids = api.discoverModules()\n",
    "print(\"Module IDs: \", moduleids)"
   ]
  },
  {
   "cell_type": "markdown",
   "metadata": {},
   "source": [
    "### Move\n",
    "We can move the joints with the `setPos(posX, posY, moduleID)` command.\n",
    "\n",
    "The arguments are:\n",
    "\n",
    "`posX`: X motor angle (degrees)\n",
    "\n",
    "`posY`: Y motor angle (degrees)\n",
    "\n",
    "`moduleID`: The module ID. You can use `moduleids[0]` to use the first discovered module."
   ]
  },
  {
   "cell_type": "code",
   "execution_count": 4,
   "metadata": {},
   "outputs": [
    {
     "data": {
      "text/plain": [
       "0"
      ]
     },
     "execution_count": 4,
     "metadata": {},
     "output_type": "execute_result"
    }
   ],
   "source": [
    "moduleID = moduleids[0]\n",
    "api.setPos(0, 0, moduleID)"
   ]
  },
  {
   "cell_type": "markdown",
   "metadata": {},
   "source": [
    "### Changing the reference\n",
    "We can try to make the joints follow a changing reference angle, using a for loop:"
   ]
  },
  {
   "cell_type": "code",
   "execution_count": 5,
   "metadata": {},
   "outputs": [],
   "source": [
    "for i in range(10):\n",
    "    api.setPos(i*10, 0, moduleID)"
   ]
  },
  {
   "cell_type": "markdown",
   "metadata": {},
   "source": [
    "What happened? All of the commands were sent immediately, giving the module no time to react.\n",
    "\n",
    "To not send all commands at once, we can wait in between commands. How much time is required? Try different sleep durations\n"
   ]
  },
  {
   "cell_type": "code",
   "execution_count": 6,
   "metadata": {},
   "outputs": [],
   "source": [
    "for i in range(10):\n",
    "    api.setPos(i*10, 0, moduleID)\n",
    "    api.sleep(2)"
   ]
  },
  {
   "cell_type": "code",
   "execution_count": 11,
   "metadata": {},
   "outputs": [
    {
     "name": "stdout",
     "output_type": "stream",
     "text": [
      "92.4\n"
     ]
    }
   ],
   "source": [
    "print(api.getBattery(moduleID))"
   ]
  }
 ],
 "metadata": {
  "kernelspec": {
   "display_name": "biocontrol",
   "language": "python",
   "name": "python3"
  },
  "language_info": {
   "codemirror_mode": {
    "name": "ipython",
    "version": 3
   },
   "file_extension": ".py",
   "mimetype": "text/x-python",
   "name": "python",
   "nbconvert_exporter": "python",
   "pygments_lexer": "ipython3",
   "version": "3.8.20"
  },
  "vscode": {
   "interpreter": {
    "hash": "b800893415a0c70bc99a913a2794f947c932bde76f0462c9534c0a3d74ebcce5"
   }
  }
 },
 "nbformat": 4,
 "nbformat_minor": 2
}
